{
 "cells": [
  {
   "cell_type": "code",
   "execution_count": 1,
   "metadata": {},
   "outputs": [],
   "source": [
    "import pandas as pd\n",
    "import glob\n",
    "import os"
   ]
  },
  {
   "attachments": {},
   "cell_type": "markdown",
   "metadata": {},
   "source": [
    "# Compound Score Monthly Average"
   ]
  },
  {
   "cell_type": "code",
   "execution_count": 2,
   "metadata": {},
   "outputs": [],
   "source": [
    "csv_folder = r\"hasil_sentimen\"\n",
    "all_csv = glob.glob(csv_folder + \"/*_vaccine.csv\")"
   ]
  },
  {
   "cell_type": "code",
   "execution_count": 3,
   "metadata": {},
   "outputs": [
    {
     "name": "stderr",
     "output_type": "stream",
     "text": [
      "c:\\ArcGIS\\conda\\env\\dl-arcgis\\lib\\site-packages\\ipykernel_launcher.py:10: FutureWarning: Indexing with multiple keys (implicitly converted to a tuple of keys) will be deprecated, use a list instead.\n",
      "  # Remove the CWD from sys.path while we load stuff.\n"
     ]
    }
   ],
   "source": [
    "df_all = pd.DataFrame()\n",
    "\n",
    "for csv in all_csv:\n",
    "    filename = os.path.basename(csv)\n",
    "    vaccine_name = filename.split(\"_\")[0]\n",
    "    df = pd.read_csv(csv, header=None)\n",
    "    df = df.drop(df.columns[[0, 1, 3, 4, 7, 8, 9, 10, 11, 12, 13, 14]], axis=1)\n",
    "    df = df.rename({ 2: \"date\", 5: \"tweet\", 6: \"city\", 15: \"neg\", 16: \"neu\", 17: \"pos\", 18: \"compound\", 19: \"overall\"}, axis=1)\n",
    "    df[\"vaccine\"] = vaccine_name\n",
    "    df2 = df.groupby(pd.PeriodIndex(df['date'], freq=\"M\"))['compound','vaccine'].mean()\n",
    "    df2['vaccine'] = vaccine_name\n",
    "    df2.reset_index(level='date', inplace=True)\n",
    "    # print(len(df2))\n",
    "    df_all = pd.concat([df_all, df2])\n",
    "    \n",
    "# print(len(df_all))\n",
    "df_all.to_csv(\"rata-rata compound bulanan.csv\")"
   ]
  },
  {
   "cell_type": "code",
   "execution_count": 4,
   "metadata": {},
   "outputs": [
    {
     "data": {
      "text/html": [
       "<div>\n",
       "<style scoped>\n",
       "    .dataframe tbody tr th:only-of-type {\n",
       "        vertical-align: middle;\n",
       "    }\n",
       "\n",
       "    .dataframe tbody tr th {\n",
       "        vertical-align: top;\n",
       "    }\n",
       "\n",
       "    .dataframe thead th {\n",
       "        text-align: right;\n",
       "    }\n",
       "</style>\n",
       "<table border=\"1\" class=\"dataframe\">\n",
       "  <thead>\n",
       "    <tr style=\"text-align: right;\">\n",
       "      <th></th>\n",
       "      <th>date</th>\n",
       "      <th>compound</th>\n",
       "      <th>vaccine</th>\n",
       "    </tr>\n",
       "  </thead>\n",
       "  <tbody>\n",
       "    <tr>\n",
       "      <th>0</th>\n",
       "      <td>2020-01</td>\n",
       "      <td>0.000000</td>\n",
       "      <td>astrazeneca</td>\n",
       "    </tr>\n",
       "    <tr>\n",
       "      <th>1</th>\n",
       "      <td>2020-02</td>\n",
       "      <td>-0.659700</td>\n",
       "      <td>astrazeneca</td>\n",
       "    </tr>\n",
       "    <tr>\n",
       "      <th>2</th>\n",
       "      <td>2020-03</td>\n",
       "      <td>-0.003967</td>\n",
       "      <td>astrazeneca</td>\n",
       "    </tr>\n",
       "    <tr>\n",
       "      <th>3</th>\n",
       "      <td>2020-04</td>\n",
       "      <td>-0.783100</td>\n",
       "      <td>astrazeneca</td>\n",
       "    </tr>\n",
       "    <tr>\n",
       "      <th>4</th>\n",
       "      <td>2020-05</td>\n",
       "      <td>0.268709</td>\n",
       "      <td>astrazeneca</td>\n",
       "    </tr>\n",
       "  </tbody>\n",
       "</table>\n",
       "</div>"
      ],
      "text/plain": [
       "      date  compound      vaccine\n",
       "0  2020-01  0.000000  astrazeneca\n",
       "1  2020-02 -0.659700  astrazeneca\n",
       "2  2020-03 -0.003967  astrazeneca\n",
       "3  2020-04 -0.783100  astrazeneca\n",
       "4  2020-05  0.268709  astrazeneca"
      ]
     },
     "execution_count": 4,
     "metadata": {},
     "output_type": "execute_result"
    }
   ],
   "source": [
    "df_all.head()"
   ]
  }
 ],
 "metadata": {
  "kernelspec": {
   "display_name": "Python 3",
   "language": "python",
   "name": "python3"
  },
  "language_info": {
   "codemirror_mode": {
    "name": "ipython",
    "version": 3
   },
   "file_extension": ".py",
   "mimetype": "text/x-python",
   "name": "python",
   "nbconvert_exporter": "python",
   "pygments_lexer": "ipython3",
   "version": "3.7.11"
  },
  "orig_nbformat": 4,
  "vscode": {
   "interpreter": {
    "hash": "d14f4fa2b9f29ea8d02710ce1c9f264676758779180cde93fd78e85da2da61ff"
   }
  }
 },
 "nbformat": 4,
 "nbformat_minor": 2
}
