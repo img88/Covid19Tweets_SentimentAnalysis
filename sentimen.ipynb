{
 "cells": [
  {
   "cell_type": "code",
   "execution_count": 2,
   "metadata": {},
   "outputs": [],
   "source": [
    "from vaderSentiment.vaderSentiment import SentimentIntensityAnalyzer\n",
    "import pandas as pd\n",
    "import glob\n",
    "from tqdm import tqdm"
   ]
  },
  {
   "attachments": {},
   "cell_type": "markdown",
   "metadata": {},
   "source": [
    "# Tweet Sentiment Score with Vader Sentiment\n",
    "\n",
    "tweet from 2020 - 2021\n",
    "Sinovac vaccine"
   ]
  },
  {
   "cell_type": "code",
   "execution_count": 3,
   "metadata": {},
   "outputs": [],
   "source": [
    "# calculate sentiment score\n",
    "def sentiment_scores(sentence):\n",
    "    sid_obj = SentimentIntensityAnalyzer()\n",
    "    sentiment_dict = sid_obj.polarity_scores(sentence)\n",
    "    return sentiment_dict"
   ]
  },
  {
   "cell_type": "code",
   "execution_count": 4,
   "metadata": {},
   "outputs": [],
   "source": [
    "# merge all csv\n",
    "path = r\"translate\\sinovac\"\n",
    "all_files = glob.glob(path + \"/*.csv\")\n",
    "list = []\n",
    "\n",
    "for filename in all_files:\n",
    "    df = pd.read_csv(filename, header=None)\n",
    "    list.append(df)\n",
    "\n",
    "frame = pd.concat(list, axis=0, ignore_index=True)"
   ]
  },
  {
   "cell_type": "code",
   "execution_count": 5,
   "metadata": {},
   "outputs": [
    {
     "name": "stderr",
     "output_type": "stream",
     "text": [
      "131899it [21:53, 100.43it/s]\n"
     ]
    },
    {
     "data": {
      "text/html": [
       "<div>\n",
       "<style scoped>\n",
       "    .dataframe tbody tr th:only-of-type {\n",
       "        vertical-align: middle;\n",
       "    }\n",
       "\n",
       "    .dataframe tbody tr th {\n",
       "        vertical-align: top;\n",
       "    }\n",
       "\n",
       "    .dataframe thead th {\n",
       "        text-align: right;\n",
       "    }\n",
       "</style>\n",
       "<table border=\"1\" class=\"dataframe\">\n",
       "  <thead>\n",
       "    <tr style=\"text-align: right;\">\n",
       "      <th></th>\n",
       "      <th>neg</th>\n",
       "      <th>neu</th>\n",
       "      <th>pos</th>\n",
       "      <th>compound</th>\n",
       "    </tr>\n",
       "  </thead>\n",
       "  <tbody>\n",
       "    <tr>\n",
       "      <th>0</th>\n",
       "      <td>0.000</td>\n",
       "      <td>0.892</td>\n",
       "      <td>0.108</td>\n",
       "      <td>0.4404</td>\n",
       "    </tr>\n",
       "    <tr>\n",
       "      <th>1</th>\n",
       "      <td>0.000</td>\n",
       "      <td>1.000</td>\n",
       "      <td>0.000</td>\n",
       "      <td>0.0000</td>\n",
       "    </tr>\n",
       "    <tr>\n",
       "      <th>2</th>\n",
       "      <td>0.000</td>\n",
       "      <td>1.000</td>\n",
       "      <td>0.000</td>\n",
       "      <td>0.0000</td>\n",
       "    </tr>\n",
       "    <tr>\n",
       "      <th>3</th>\n",
       "      <td>0.045</td>\n",
       "      <td>0.904</td>\n",
       "      <td>0.050</td>\n",
       "      <td>0.0772</td>\n",
       "    </tr>\n",
       "    <tr>\n",
       "      <th>4</th>\n",
       "      <td>0.045</td>\n",
       "      <td>0.904</td>\n",
       "      <td>0.050</td>\n",
       "      <td>0.0772</td>\n",
       "    </tr>\n",
       "  </tbody>\n",
       "</table>\n",
       "</div>"
      ],
      "text/plain": [
       "     neg    neu    pos  compound\n",
       "0  0.000  0.892  0.108    0.4404\n",
       "1  0.000  1.000  0.000    0.0000\n",
       "2  0.000  1.000  0.000    0.0000\n",
       "3  0.045  0.904  0.050    0.0772\n",
       "4  0.045  0.904  0.050    0.0772"
      ]
     },
     "execution_count": 5,
     "metadata": {},
     "output_type": "execute_result"
    }
   ],
   "source": [
    "# calculate all tweet sentiment score\n",
    "result = []\n",
    "\n",
    "for idx, tweet in tqdm(enumerate(frame[4])):\n",
    "    result.append(sentiment_scores(tweet))\n",
    "\n",
    "df_result = pd.DataFrame(result)\n",
    "df_result.head()"
   ]
  },
  {
   "cell_type": "code",
   "execution_count": 6,
   "metadata": {},
   "outputs": [],
   "source": [
    "# save the result\n",
    "df_result.to_csv('sinovac_sentimen_result.csv',header=False)"
   ]
  },
  {
   "cell_type": "code",
   "execution_count": 7,
   "metadata": {},
   "outputs": [
    {
     "data": {
      "text/html": [
       "<div>\n",
       "<style scoped>\n",
       "    .dataframe tbody tr th:only-of-type {\n",
       "        vertical-align: middle;\n",
       "    }\n",
       "\n",
       "    .dataframe tbody tr th {\n",
       "        vertical-align: top;\n",
       "    }\n",
       "\n",
       "    .dataframe thead th {\n",
       "        text-align: right;\n",
       "    }\n",
       "</style>\n",
       "<table border=\"1\" class=\"dataframe\">\n",
       "  <thead>\n",
       "    <tr style=\"text-align: right;\">\n",
       "      <th></th>\n",
       "      <th>neg</th>\n",
       "      <th>neu</th>\n",
       "      <th>pos</th>\n",
       "      <th>compound</th>\n",
       "      <th>overall</th>\n",
       "    </tr>\n",
       "  </thead>\n",
       "  <tbody>\n",
       "    <tr>\n",
       "      <th>0</th>\n",
       "      <td>0.000</td>\n",
       "      <td>0.892</td>\n",
       "      <td>0.108</td>\n",
       "      <td>0.4404</td>\n",
       "      <td>1</td>\n",
       "    </tr>\n",
       "    <tr>\n",
       "      <th>1</th>\n",
       "      <td>0.000</td>\n",
       "      <td>1.000</td>\n",
       "      <td>0.000</td>\n",
       "      <td>0.0000</td>\n",
       "      <td>0</td>\n",
       "    </tr>\n",
       "    <tr>\n",
       "      <th>2</th>\n",
       "      <td>0.000</td>\n",
       "      <td>1.000</td>\n",
       "      <td>0.000</td>\n",
       "      <td>0.0000</td>\n",
       "      <td>0</td>\n",
       "    </tr>\n",
       "    <tr>\n",
       "      <th>3</th>\n",
       "      <td>0.045</td>\n",
       "      <td>0.904</td>\n",
       "      <td>0.050</td>\n",
       "      <td>0.0772</td>\n",
       "      <td>1</td>\n",
       "    </tr>\n",
       "    <tr>\n",
       "      <th>4</th>\n",
       "      <td>0.045</td>\n",
       "      <td>0.904</td>\n",
       "      <td>0.050</td>\n",
       "      <td>0.0772</td>\n",
       "      <td>1</td>\n",
       "    </tr>\n",
       "  </tbody>\n",
       "</table>\n",
       "</div>"
      ],
      "text/plain": [
       "     neg    neu    pos  compound  overall\n",
       "0  0.000  0.892  0.108    0.4404        1\n",
       "1  0.000  1.000  0.000    0.0000        0\n",
       "2  0.000  1.000  0.000    0.0000        0\n",
       "3  0.045  0.904  0.050    0.0772        1\n",
       "4  0.045  0.904  0.050    0.0772        1"
      ]
     },
     "execution_count": 7,
     "metadata": {},
     "output_type": "execute_result"
    }
   ],
   "source": [
    "# calculate overall score\n",
    "df_result[\"overall\"] = 0 # neutral\n",
    "df_result.loc[df_result[\"compound\"] >= 0.05, 'overall'] = 1 # positive\n",
    "df_result.loc[df_result[\"compound\"] <= -0.05, 'overall'] = -1 # negative\n",
    "df_result.head()"
   ]
  },
  {
   "cell_type": "code",
   "execution_count": 8,
   "metadata": {},
   "outputs": [
    {
     "data": {
      "text/plain": [
       " 0    58644\n",
       " 1    50964\n",
       "-1    22291\n",
       "Name: overall, dtype: int64"
      ]
     },
     "execution_count": 8,
     "metadata": {},
     "output_type": "execute_result"
    }
   ],
   "source": [
    "df_result[\"overall\"].value_counts()"
   ]
  },
  {
   "cell_type": "code",
   "execution_count": 9,
   "metadata": {},
   "outputs": [
    {
     "data": {
      "image/png": "[encoded data removed]",
      "text/plain": [
       "<Figure size 432x288 with 1 Axes>"
      ]
     },
     "metadata": {
      "needs_background": "light"
     },
     "output_type": "display_data"
    }
   ],
   "source": [
    "df_plot = pd.DataFrame(df_result.overall.value_counts().reset_index().values, columns=[\"x\", \"y\"])\n",
    "df_plot = df_plot.sort_index(axis = 0, ascending=True)\n",
    "df_plot['x'] = df_plot.x.map({1 : 'positive', 0 : 'neutral', -1 : 'negative'})\n",
    "ax = df_plot.plot.bar(x='x', y='y', rot=0)"
   ]
  },
  {
   "cell_type": "code",
   "execution_count": 10,
   "metadata": {},
   "outputs": [],
   "source": [
    "# create full result\n",
    "if len(df_result) == len(frame):\n",
    "    df_full_result = pd.concat([frame, df_result], axis=1)\n",
    "    df_full_result.head()\n",
    "else:\n",
    "    raise Exception(\"data not in the same length\")"
   ]
  },
  {
   "cell_type": "code",
   "execution_count": 11,
   "metadata": {},
   "outputs": [],
   "source": [
    "df_full_result.to_csv('sinovac_full.csv',header=False)"
   ]
  },
  {
   "cell_type": "code",
   "execution_count": 12,
   "metadata": {},
   "outputs": [
    {
     "data": {
      "text/plain": [
       "0             int64\n",
       "1            object\n",
       "2             int64\n",
       "3            object\n",
       "4            object\n",
       "5            object\n",
       "6            object\n",
       "7            object\n",
       "8            object\n",
       "9            object\n",
       "10           object\n",
       "11           object\n",
       "12           object\n",
       "13           object\n",
       "neg         float64\n",
       "neu         float64\n",
       "pos         float64\n",
       "compound    float64\n",
       "overall       int64\n",
       "dtype: object"
      ]
     },
     "execution_count": 12,
     "metadata": {},
     "output_type": "execute_result"
    }
   ],
   "source": [
    "df_full_result.dtypes"
   ]
  },
  {
   "cell_type": "code",
   "execution_count": 13,
   "metadata": {},
   "outputs": [
    {
     "data": {
      "text/plain": [
       "datetime64[ns, UTC]"
      ]
     },
     "execution_count": 13,
     "metadata": {},
     "output_type": "execute_result"
    }
   ],
   "source": [
    "df_full_result[1] = pd.to_datetime(df_full_result[1])\n",
    "df_full_result[1].dtypes"
   ]
  },
  {
   "cell_type": "code",
   "execution_count": 14,
   "metadata": {},
   "outputs": [
    {
     "data": {
      "text/html": [
       "<div>\n",
       "<style scoped>\n",
       "    .dataframe tbody tr th:only-of-type {\n",
       "        vertical-align: middle;\n",
       "    }\n",
       "\n",
       "    .dataframe tbody tr th {\n",
       "        vertical-align: top;\n",
       "    }\n",
       "\n",
       "    .dataframe thead th {\n",
       "        text-align: right;\n",
       "    }\n",
       "</style>\n",
       "<table border=\"1\" class=\"dataframe\">\n",
       "  <thead>\n",
       "    <tr style=\"text-align: right;\">\n",
       "      <th></th>\n",
       "      <th>0</th>\n",
       "      <th>1</th>\n",
       "      <th>2</th>\n",
       "      <th>3</th>\n",
       "      <th>4</th>\n",
       "      <th>5</th>\n",
       "      <th>6</th>\n",
       "      <th>7</th>\n",
       "      <th>8</th>\n",
       "      <th>9</th>\n",
       "      <th>10</th>\n",
       "      <th>11</th>\n",
       "      <th>12</th>\n",
       "      <th>13</th>\n",
       "      <th>neg</th>\n",
       "      <th>neu</th>\n",
       "      <th>pos</th>\n",
       "      <th>compound</th>\n",
       "      <th>overall</th>\n",
       "    </tr>\n",
       "  </thead>\n",
       "  <tbody>\n",
       "    <tr>\n",
       "      <th>0</th>\n",
       "      <td>1300574220527628288</td>\n",
       "      <td>2020-08-31 23:20:32+00:00</td>\n",
       "      <td>18129942</td>\n",
       "      <td>in</td>\n",
       "      <td>Director of Bio Farma Honesti Basyir said the ...</td>\n",
       "      <td>Indonesia</td>\n",
       "      <td>NaN</td>\n",
       "      <td>NaN</td>\n",
       "      <td>NaN</td>\n",
       "      <td>NaN</td>\n",
       "      <td>NaN</td>\n",
       "      <td>NaN</td>\n",
       "      <td>NaN</td>\n",
       "      <td>NaN</td>\n",
       "      <td>0.000</td>\n",
       "      <td>0.892</td>\n",
       "      <td>0.108</td>\n",
       "      <td>0.4404</td>\n",
       "      <td>1</td>\n",
       "    </tr>\n",
       "    <tr>\n",
       "      <th>1</th>\n",
       "      <td>1300470239646285828</td>\n",
       "      <td>2020-08-31 16:27:21+00:00</td>\n",
       "      <td>1274695735951241216</td>\n",
       "      <td>in</td>\n",
       "      <td>Last August 25 Erick Thohir and Foreign Minist...</td>\n",
       "      <td>None</td>\n",
       "      <td>NaN</td>\n",
       "      <td>NaN</td>\n",
       "      <td>NaN</td>\n",
       "      <td>NaN</td>\n",
       "      <td>NaN</td>\n",
       "      <td>NaN</td>\n",
       "      <td>NaN</td>\n",
       "      <td>NaN</td>\n",
       "      <td>0.000</td>\n",
       "      <td>1.000</td>\n",
       "      <td>0.000</td>\n",
       "      <td>0.0000</td>\n",
       "      <td>0</td>\n",
       "    </tr>\n",
       "    <tr>\n",
       "      <th>2</th>\n",
       "      <td>1300465569129398273</td>\n",
       "      <td>2020-08-31 16:08:47+00:00</td>\n",
       "      <td>1153912473298206721</td>\n",
       "      <td>in</td>\n",
       "      <td>The research team called as many as 248 volunt...</td>\n",
       "      <td>None</td>\n",
       "      <td>NaN</td>\n",
       "      <td>NaN</td>\n",
       "      <td>NaN</td>\n",
       "      <td>NaN</td>\n",
       "      <td>NaN</td>\n",
       "      <td>NaN</td>\n",
       "      <td>NaN</td>\n",
       "      <td>NaN</td>\n",
       "      <td>0.000</td>\n",
       "      <td>1.000</td>\n",
       "      <td>0.000</td>\n",
       "      <td>0.0000</td>\n",
       "      <td>0</td>\n",
       "    </tr>\n",
       "    <tr>\n",
       "      <th>3</th>\n",
       "      <td>1300448878462816257</td>\n",
       "      <td>2020-08-31 15:02:28+00:00</td>\n",
       "      <td>754980910366232578</td>\n",
       "      <td>in</td>\n",
       "      <td>* Approximately the President or the House of ...</td>\n",
       "      <td>None</td>\n",
       "      <td>NaN</td>\n",
       "      <td>NaN</td>\n",
       "      <td>NaN</td>\n",
       "      <td>NaN</td>\n",
       "      <td>NaN</td>\n",
       "      <td>NaN</td>\n",
       "      <td>NaN</td>\n",
       "      <td>NaN</td>\n",
       "      <td>0.045</td>\n",
       "      <td>0.904</td>\n",
       "      <td>0.050</td>\n",
       "      <td>0.0772</td>\n",
       "      <td>1</td>\n",
       "    </tr>\n",
       "    <tr>\n",
       "      <th>4</th>\n",
       "      <td>1300448317269143553</td>\n",
       "      <td>2020-08-31 15:00:14+00:00</td>\n",
       "      <td>761550431625412609</td>\n",
       "      <td>in</td>\n",
       "      <td>* Approximately the President or the House of ...</td>\n",
       "      <td>None</td>\n",
       "      <td>NaN</td>\n",
       "      <td>NaN</td>\n",
       "      <td>NaN</td>\n",
       "      <td>NaN</td>\n",
       "      <td>NaN</td>\n",
       "      <td>NaN</td>\n",
       "      <td>NaN</td>\n",
       "      <td>NaN</td>\n",
       "      <td>0.045</td>\n",
       "      <td>0.904</td>\n",
       "      <td>0.050</td>\n",
       "      <td>0.0772</td>\n",
       "      <td>1</td>\n",
       "    </tr>\n",
       "  </tbody>\n",
       "</table>\n",
       "</div>"
      ],
      "text/plain": [
       "                     0                         1                    2   3  \\\n",
       "0  1300574220527628288 2020-08-31 23:20:32+00:00             18129942  in   \n",
       "1  1300470239646285828 2020-08-31 16:27:21+00:00  1274695735951241216  in   \n",
       "2  1300465569129398273 2020-08-31 16:08:47+00:00  1153912473298206721  in   \n",
       "3  1300448878462816257 2020-08-31 15:02:28+00:00   754980910366232578  in   \n",
       "4  1300448317269143553 2020-08-31 15:00:14+00:00   761550431625412609  in   \n",
       "\n",
       "                                                   4          5    6    7  \\\n",
       "0  Director of Bio Farma Honesti Basyir said the ...  Indonesia  NaN  NaN   \n",
       "1  Last August 25 Erick Thohir and Foreign Minist...       None  NaN  NaN   \n",
       "2  The research team called as many as 248 volunt...       None  NaN  NaN   \n",
       "3  * Approximately the President or the House of ...       None  NaN  NaN   \n",
       "4  * Approximately the President or the House of ...       None  NaN  NaN   \n",
       "\n",
       "     8    9   10   11   12   13    neg    neu    pos  compound  overall  \n",
       "0  NaN  NaN  NaN  NaN  NaN  NaN  0.000  0.892  0.108    0.4404        1  \n",
       "1  NaN  NaN  NaN  NaN  NaN  NaN  0.000  1.000  0.000    0.0000        0  \n",
       "2  NaN  NaN  NaN  NaN  NaN  NaN  0.000  1.000  0.000    0.0000        0  \n",
       "3  NaN  NaN  NaN  NaN  NaN  NaN  0.045  0.904  0.050    0.0772        1  \n",
       "4  NaN  NaN  NaN  NaN  NaN  NaN  0.045  0.904  0.050    0.0772        1  "
      ]
     },
     "execution_count": 14,
     "metadata": {},
     "output_type": "execute_result"
    }
   ],
   "source": [
    "df_full_result.head()"
   ]
  },
  {
   "cell_type": "code",
   "execution_count": 15,
   "metadata": {},
   "outputs": [],
   "source": [
    "df_date_result = df_full_result[[1,\"overall\"]]"
   ]
  },
  {
   "cell_type": "code",
   "execution_count": 16,
   "metadata": {},
   "outputs": [
    {
     "data": {
      "text/plain": [
       "1     1 \n",
       "2020  4        22\n",
       "      5        26\n",
       "      6        45\n",
       "      7      1359\n",
       "      8      2210\n",
       "      9      1270\n",
       "      10     1221\n",
       "      11     1330\n",
       "      12     9184\n",
       "2021  1     33487\n",
       "      2      6691\n",
       "      3      5654\n",
       "      4      3319\n",
       "      5      4050\n",
       "      6     10458\n",
       "      7     18251\n",
       "      8     12062\n",
       "      9      7943\n",
       "      10     4576\n",
       "      11     5148\n",
       "      12     3593\n",
       "Name: overall, dtype: int64"
      ]
     },
     "execution_count": 16,
     "metadata": {},
     "output_type": "execute_result"
    }
   ],
   "source": [
    "# monthly tweet count\n",
    "df_date_result.groupby([df_date_result[1].dt.year, df_date_result[1].dt.month])['overall'].size().to_csv('banyak_tweet_perbulan_sinovac.csv',header=False)\n",
    "df_date_result.groupby([df_date_result[1].dt.year, df_date_result[1].dt.month])['overall'].size()"
   ]
  },
  {
   "cell_type": "code",
   "execution_count": 17,
   "metadata": {},
   "outputs": [
    {
     "data": {
      "text/plain": [
       "1     1   overall\n",
       "2020  4    0             6\n",
       "           1            16\n",
       "      5   -1             2\n",
       "           0            10\n",
       "           1            14\n",
       "      6   -1             4\n",
       "           0            18\n",
       "           1            23\n",
       "      7   -1           103\n",
       "           0           791\n",
       "           1           465\n",
       "      8   -1           204\n",
       "           0          1086\n",
       "           1           920\n",
       "      9   -1           192\n",
       "           0           447\n",
       "           1           631\n",
       "      10  -1           200\n",
       "           0           611\n",
       "           1           410\n",
       "      11  -1           333\n",
       "           0           490\n",
       "           1           507\n",
       "      12  -1          1548\n",
       "           0          4156\n",
       "           1          3480\n",
       "2021  1   -1          5135\n",
       "           0         15984\n",
       "           1         12368\n",
       "      2   -1          1117\n",
       "           0          3280\n",
       "           1          2294\n",
       "      3   -1           725\n",
       "           0          3071\n",
       "           1          1858\n",
       "      4   -1           511\n",
       "           0          1445\n",
       "           1          1363\n",
       "      5   -1           719\n",
       "           0          1965\n",
       "           1          1366\n",
       "      6   -1          2028\n",
       "           0          3766\n",
       "           1          4664\n",
       "      7   -1          4077\n",
       "           0          6891\n",
       "           1          7283\n",
       "      8   -1          2307\n",
       "           0          4952\n",
       "           1          4803\n",
       "      9   -1          1227\n",
       "           0          3708\n",
       "           1          3008\n",
       "      10  -1           629\n",
       "           0          2114\n",
       "           1          1833\n",
       "      11  -1           729\n",
       "           0          2029\n",
       "           1          2390\n",
       "      12  -1           501\n",
       "           0          1824\n",
       "           1          1268\n",
       "dtype: int64"
      ]
     },
     "execution_count": 17,
     "metadata": {},
     "output_type": "execute_result"
    }
   ],
   "source": [
    "# monthly overall count\n",
    "pd.set_option('display.max_rows', None)\n",
    "df_date_result.groupby([df_date_result[1].dt.year, df_date_result[1].dt.month, \"overall\"]).size().to_csv('banyak_sentimen_perbulan_sinovac.csv',header=False)\n",
    "df_date_result.groupby([df_date_result[1].dt.year, df_date_result[1].dt.month, \"overall\"]).size()"
   ]
  }
 ],
 "metadata": {
  "kernelspec": {
   "display_name": "Python 3",
   "language": "python",
   "name": "python3"
  },
  "language_info": {
   "codemirror_mode": {
    "name": "ipython",
    "version": 3
   },
   "file_extension": ".py",
   "mimetype": "text/x-python",
   "name": "python",
   "nbconvert_exporter": "python",
   "pygments_lexer": "ipython3",
   "version": "3.8.6rc1 (tags/v3.8.6rc1:08bd63d, Sep  7 2020, 23:10:23) [MSC v.1927 64 bit (AMD64)]"
  },
  "orig_nbformat": 4,
  "vscode": {
   "interpreter": {
    "hash": "1b4c1563e7c88570dc66aa1ff45535710e84f60b6d988d3ac4488305437bc55b"
   }
  }
 },
 "nbformat": 4,
 "nbformat_minor": 2
}
